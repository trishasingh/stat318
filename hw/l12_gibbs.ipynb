{
 "cells": [
  {
   "cell_type": "markdown",
   "metadata": {},
   "source": [
    "# Sampling from Y_t sequence"
   ]
  },
  {
   "cell_type": "code",
   "execution_count": 2,
   "metadata": {},
   "outputs": [],
   "source": [
    "import numpy as np"
   ]
  },
  {
   "cell_type": "code",
   "execution_count": 27,
   "metadata": {},
   "outputs": [],
   "source": [
    "def next_y(prev_y, rho=0.5):\n",
    "    e = np.random.standard_normal()\n",
    "    return(rho*prev_y + e)\n",
    "\n",
    "def sample(L):\n",
    "    Y = map(lambda y: next_y(y), np.zeros(L+1))\n",
    "    return list(Y)\n",
    "\n",
    "def feasible(Y):\n",
    "    return(sorted(Y, reverse=True)==Y)"
   ]
  },
  {
   "cell_type": "code",
   "execution_count": 29,
   "metadata": {},
   "outputs": [],
   "source": [
    "L = 12\n",
    "for i in range(5*(10**6)):\n",
    "    Y = sample(L)\n",
    "    if feasible(Y):\n",
    "        print(i)"
   ]
  }
 ],
 "metadata": {
  "kernelspec": {
   "display_name": "Python 3",
   "language": "python",
   "name": "python3"
  },
  "language_info": {
   "codemirror_mode": {
    "name": "ipython",
    "version": 3
   },
   "file_extension": ".py",
   "mimetype": "text/x-python",
   "name": "python",
   "nbconvert_exporter": "python",
   "pygments_lexer": "ipython3",
   "version": "3.7.3"
  }
 },
 "nbformat": 4,
 "nbformat_minor": 2
}
