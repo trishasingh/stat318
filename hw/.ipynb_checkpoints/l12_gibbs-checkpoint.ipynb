{
 "cells": [
  {
   "cell_type": "markdown",
   "metadata": {},
   "source": [
    "# Sampling from Y_t sequence"
   ]
  },
  {
   "cell_type": "code",
   "execution_count": 1,
   "metadata": {},
   "outputs": [],
   "source": [
    "import numpy as np"
   ]
  },
  {
   "cell_type": "markdown",
   "metadata": {},
   "source": [
    "## Vanilla sampling"
   ]
  },
  {
   "cell_type": "code",
   "execution_count": 64,
   "metadata": {},
   "outputs": [],
   "source": [
    "def next_y(y_prev, rho=0.5):\n",
    "    e = np.random.standard_normal()\n",
    "    return(rho*y_prev + e)\n",
    "\n",
    "def sample(L):\n",
    "    y = 0\n",
    "    Y = []\n",
    "    for i in range(L):\n",
    "        y = next_y(y)\n",
    "        Y.append(y)\n",
    "    return Y\n",
    "\n",
    "def feasible(y, y_prev):\n",
    "    return y < y_prev"
   ]
  },
  {
   "cell_type": "code",
   "execution_count": 96,
   "metadata": {},
   "outputs": [],
   "source": [
    "# setup for simulation\n",
    "L = 12\n",
    "n_samples = 100\n",
    "samples = {k:[] for k in range(L)} # store samples to calculate moments later\n",
    "tries = [] # number of individual samples drawn"
   ]
  },
  {
   "cell_type": "code",
   "execution_count": 97,
   "metadata": {
    "scrolled": true
   },
   "outputs": [
    {
     "name": "stdout",
     "output_type": "stream",
     "text": [
      "num samples 0\n",
      "num samples 10\n",
      "num samples 20\n",
      "num samples 30\n",
      "num samples 40\n",
      "num samples 50\n",
      "num samples 60\n",
      "num samples 70\n",
      "num samples 80\n",
      "num samples 90\n"
     ]
    }
   ],
   "source": [
    "for i in range(n_samples):\n",
    "    n_tries = 0\n",
    "    stop = False\n",
    "    while not stop:\n",
    "        y_prev = np.random.standard_normal()\n",
    "        sample = [y_prev]\n",
    "        while len(sample)<12:\n",
    "            y = next_y(y_prev)\n",
    "            n_tries += 1\n",
    "            if feasible(y,y_prev):\n",
    "                sample.append(y)\n",
    "                y_prev = y\n",
    "                if len(sample)==12:\n",
    "                    stop = True\n",
    "            else:\n",
    "                break\n",
    "    [samples[k].append(v) for (k,v) in zip(range(L),sample)]\n",
    "    tries.append(n_tries)\n",
    "    if i%10 == 0:\n",
    "        print(\"num samples\", i)"
   ]
  },
  {
   "cell_type": "code",
   "execution_count": 102,
   "metadata": {
    "scrolled": true
   },
   "outputs": [
    {
     "data": {
      "text/plain": [
       "{0: 2.0402556030899617,\n",
       " 1: 1.5652572425226579,\n",
       " 2: 1.129196617798058,\n",
       " 3: 0.7644024305793237,\n",
       " 4: 0.4587475572885697,\n",
       " 5: 0.062195905824384425,\n",
       " 6: -0.26408689571411703,\n",
       " 7: -0.6452082637589261,\n",
       " 8: -1.0066557744969322,\n",
       " 9: -1.490276482932891,\n",
       " 10: -1.9068443704686118,\n",
       " 11: -2.353288677174053}"
      ]
     },
     "execution_count": 102,
     "metadata": {},
     "output_type": "execute_result"
    }
   ],
   "source": [
    "# examine the moments\n",
    "{k:np.mean(v) for (k,v) in samples.items()}"
   ]
  },
  {
   "cell_type": "code",
   "execution_count": 189,
   "metadata": {},
   "outputs": [
    {
     "data": {
      "text/plain": [
       "10024644.86"
      ]
     },
     "execution_count": 189,
     "metadata": {},
     "output_type": "execute_result"
    }
   ],
   "source": [
    "np.mean(tries)"
   ]
  },
  {
   "cell_type": "markdown",
   "metadata": {},
   "source": [
    "## Gibbs sampling"
   ]
  },
  {
   "cell_type": "code",
   "execution_count": 212,
   "metadata": {},
   "outputs": [
    {
     "name": "stdout",
     "output_type": "stream",
     "text": [
      "CPU times: user 34.6 s, sys: 85.6 ms, total: 34.7 s\n",
      "Wall time: 34.8 s\n"
     ]
    }
   ],
   "source": [
    "%%time\n",
    "samples_gibbs = {k:[] for k in range(L)} # store samples to calculate moments later\n",
    "tries_gibbs = [] # number of individual samples drawn\n",
    "for i in range(n_samples):\n",
    "    Y = list(np.linspace(3,-3,L)) # initialize with some feasible values\n",
    "    steps = 10000\n",
    "    rho = 0.5\n",
    "    rhosq = rho**2\n",
    "    n_tries = 0\n",
    "\n",
    "    for step in range(steps):\n",
    "        t = np.random.randint(0,L)\n",
    "        stop = False\n",
    "        while not stop:\n",
    "            n_tries += 1\n",
    "            if t==0:\n",
    "                # just sample from standard normal\n",
    "                y = np.random.standard_normal()\n",
    "                if y>Y[t+1]:\n",
    "                    Y[t] = y\n",
    "                    stop = True\n",
    "            elif t==L-1:\n",
    "                mu = Y[t-1]*rho\n",
    "    #             gamma = 1/rho\n",
    "                gamma = 1\n",
    "                y = np.random.normal(mu, gamma)\n",
    "                if y<Y[t-1]:\n",
    "                    Y[t] = y\n",
    "                    stop = True\n",
    "            else:\n",
    "                mu = rho*Y[t-1] + (Y[t+1] - rhosq*Y[t-1]) * rho / (1+rhosq)\n",
    "                gamma = np.sqrt(1/(1+rhosq))\n",
    "                y = np.random.normal(mu, gamma)\n",
    "                if y>Y[t+1] and y<Y[t-1]:\n",
    "                    Y[t] = y\n",
    "                    stop = True            \n",
    "    [samples_gibbs[k].append(v) for (k,v) in zip(range(L),Y)]\n",
    "    tries_gibbs.append(n_tries)\n",
    "    "
   ]
  },
  {
   "cell_type": "code",
   "execution_count": 213,
   "metadata": {},
   "outputs": [
    {
     "data": {
      "text/plain": [
       "{0: 1.9843238330300914,\n",
       " 1: 1.4710841273987822,\n",
       " 2: 1.088776346323876,\n",
       " 3: 0.7056552819725371,\n",
       " 4: 0.36812214774922786,\n",
       " 5: 0.05048289955606048,\n",
       " 6: -0.293943544897868,\n",
       " 7: -0.6508135370673201,\n",
       " 8: -1.0060760031950564,\n",
       " 9: -1.4141232880459471,\n",
       " 10: -1.8108914725394667,\n",
       " 11: -2.2793052212347362}"
      ]
     },
     "execution_count": 213,
     "metadata": {},
     "output_type": "execute_result"
    }
   ],
   "source": [
    "# examine the moments\n",
    "{k:np.mean(v) for (k,v) in samples_gibbs.items()}"
   ]
  },
  {
   "cell_type": "code",
   "execution_count": 214,
   "metadata": {},
   "outputs": [
    {
     "data": {
      "text/plain": [
       "119145.62"
      ]
     },
     "execution_count": 214,
     "metadata": {},
     "output_type": "execute_result"
    }
   ],
   "source": [
    "np.mean(tries_gibbs)"
   ]
  }
 ],
 "metadata": {
  "kernelspec": {
   "display_name": "Python 3",
   "language": "python",
   "name": "python3"
  },
  "language_info": {
   "codemirror_mode": {
    "name": "ipython",
    "version": 3
   },
   "file_extension": ".py",
   "mimetype": "text/x-python",
   "name": "python",
   "nbconvert_exporter": "python",
   "pygments_lexer": "ipython3",
   "version": "3.7.3"
  }
 },
 "nbformat": 4,
 "nbformat_minor": 2
}
